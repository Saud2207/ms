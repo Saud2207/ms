{
 "cells": [
  {
   "cell_type": "markdown",
   "id": "a38c0b00-3cc7-4bc9-86b0-0dd09013491e",
   "metadata": {},
   "source": [
    "# Data Science Tools and Ecosystem"
   ]
  },
  {
   "cell_type": "markdown",
   "id": "f590a814-0488-4cdf-ad15-224c9a8b79c0",
   "metadata": {},
   "source": [
    "In this notebook, Data Science Tools and Ecosystem are summarized."
   ]
  },
  {
   "cell_type": "markdown",
   "id": "a4b04631-b31c-4205-85ee-9b291bc21a53",
   "metadata": {},
   "source": [
    "**Objectives:**\n",
    "\n",
    "* List popular languages for Data Science\n",
    "* List popular libraries for Data Science\n",
    "* List popular tools for Data Science"
   ]
  },
  {
   "cell_type": "markdown",
   "id": "4daf06d2-06e0-411c-8db5-57abf96371e3",
   "metadata": {},
   "source": [
    "### Some of the popular languages that Data Scientists use are:"
   ]
  },
  {
   "cell_type": "markdown",
   "id": "79f1c161-5077-4c35-9b0c-2a55dfcff5de",
   "metadata": {},
   "source": [
    "1. Python\n",
    "2. R\n",
    "3. SQL"
   ]
  },
  {
   "cell_type": "markdown",
   "id": "a8c544e0-7004-468e-ae84-3a6b7682a22d",
   "metadata": {},
   "source": [
    "### Some of the commonly used libraries used by Data Scientists include:\n"
   ]
  },
  {
   "cell_type": "markdown",
   "id": "7c93a66e-c2a6-4d1c-9182-c6f80613c274",
   "metadata": {},
   "source": [
    "1. Matplotlib\n",
    "2. Tensorflow\n",
    "3. NumPy"
   ]
  },
  {
   "cell_type": "markdown",
   "id": "288d407d-bd34-4032-a11d-044dfb5b8720",
   "metadata": {},
   "source": [
    "| Data Science Tools |\n",
    "----------------------\n",
    "| Visual Studio Code |\n",
    "|Jupyter Notebook |\n",
    "|Spyder |"
   ]
  },
  {
   "cell_type": "markdown",
   "id": "e02bf191-017e-4eb6-a207-25c13f3d4e12",
   "metadata": {},
   "source": [
    "### Below are a few examples of evaluating arithmetic expressions in Python"
   ]
  },
  {
   "cell_type": "code",
   "execution_count": 13,
   "id": "c3686005-d4af-41ef-a052-7461b912ab09",
   "metadata": {},
   "outputs": [
    {
     "data": {
      "text/plain": [
       "17"
      ]
     },
     "execution_count": 13,
     "metadata": {},
     "output_type": "execute_result"
    }
   ],
   "source": [
    "#This a simple arithmetic expression to mutiply then add integers\n",
    "\n",
    "(3*4)+5"
   ]
  },
  {
   "cell_type": "code",
   "execution_count": 15,
   "id": "8d3affe8-f10e-45af-ab74-64a925ba52a3",
   "metadata": {},
   "outputs": [
    {
     "data": {
      "text/plain": [
       "3.3333333333333335"
      ]
     },
     "execution_count": 15,
     "metadata": {},
     "output_type": "execute_result"
    }
   ],
   "source": [
    "#This will convert 200 minutes to hours by diving by 60\n",
    "\n",
    "200/60"
   ]
  },
  {
   "cell_type": "markdown",
   "id": "f4d80d14-a18f-4a68-b501-dcda3c6f881e",
   "metadata": {},
   "source": [
    "# Author\n",
    "Saud Ahmed Babur"
   ]
  },
  {
   "cell_type": "code",
   "execution_count": null,
   "id": "ba2d095c-9498-4155-ab4f-bdede473d552",
   "metadata": {},
   "outputs": [],
   "source": []
  }
 ],
 "metadata": {
  "kernelspec": {
   "display_name": "Python 3 (ipykernel)",
   "language": "python",
   "name": "python3"
  },
  "language_info": {
   "codemirror_mode": {
    "name": "ipython",
    "version": 3
   },
   "file_extension": ".py",
   "mimetype": "text/x-python",
   "name": "python",
   "nbconvert_exporter": "python",
   "pygments_lexer": "ipython3",
   "version": "3.12.4"
  }
 },
 "nbformat": 4,
 "nbformat_minor": 5
}
